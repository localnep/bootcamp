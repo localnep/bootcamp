{
 "cells": [
  {
   "cell_type": "markdown",
   "metadata": {},
   "source": [
    "## Kural Tabanlı Sınıflandırma ile Potansiyel Müşteri Getirisi Hesaplama"
   ]
  },
  {
   "cell_type": "markdown",
   "metadata": {},
   "source": [
    "**Adım 1**: Gerekli kütüphanelerin indirilmesi ve veri setini yükleme"
   ]
  },
  {
   "cell_type": "code",
   "execution_count": 1,
   "metadata": {},
   "outputs": [],
   "source": [
    "import numpy as np\n",
    "import pandas as pd\n",
    "import seaborn as sns\n",
    "from matplotlib import pyplot as plt"
   ]
  },
  {
   "cell_type": "code",
   "execution_count": 2,
   "metadata": {},
   "outputs": [
    {
     "data": {
      "text/html": [
       "<div>\n",
       "<style scoped>\n",
       "    .dataframe tbody tr th:only-of-type {\n",
       "        vertical-align: middle;\n",
       "    }\n",
       "\n",
       "    .dataframe tbody tr th {\n",
       "        vertical-align: top;\n",
       "    }\n",
       "\n",
       "    .dataframe thead th {\n",
       "        text-align: right;\n",
       "    }\n",
       "</style>\n",
       "<table border=\"1\" class=\"dataframe\">\n",
       "  <thead>\n",
       "    <tr style=\"text-align: right;\">\n",
       "      <th></th>\n",
       "      <th>PRICE</th>\n",
       "      <th>SOURCE</th>\n",
       "      <th>SEX</th>\n",
       "      <th>COUNTRY</th>\n",
       "      <th>AGE</th>\n",
       "    </tr>\n",
       "  </thead>\n",
       "  <tbody>\n",
       "    <tr>\n",
       "      <th>0</th>\n",
       "      <td>39</td>\n",
       "      <td>android</td>\n",
       "      <td>male</td>\n",
       "      <td>bra</td>\n",
       "      <td>17</td>\n",
       "    </tr>\n",
       "    <tr>\n",
       "      <th>1</th>\n",
       "      <td>39</td>\n",
       "      <td>android</td>\n",
       "      <td>male</td>\n",
       "      <td>bra</td>\n",
       "      <td>17</td>\n",
       "    </tr>\n",
       "    <tr>\n",
       "      <th>2</th>\n",
       "      <td>49</td>\n",
       "      <td>android</td>\n",
       "      <td>male</td>\n",
       "      <td>bra</td>\n",
       "      <td>17</td>\n",
       "    </tr>\n",
       "    <tr>\n",
       "      <th>3</th>\n",
       "      <td>29</td>\n",
       "      <td>android</td>\n",
       "      <td>male</td>\n",
       "      <td>tur</td>\n",
       "      <td>17</td>\n",
       "    </tr>\n",
       "    <tr>\n",
       "      <th>4</th>\n",
       "      <td>49</td>\n",
       "      <td>android</td>\n",
       "      <td>male</td>\n",
       "      <td>tur</td>\n",
       "      <td>17</td>\n",
       "    </tr>\n",
       "  </tbody>\n",
       "</table>\n",
       "</div>"
      ],
      "text/plain": [
       "   PRICE   SOURCE   SEX COUNTRY  AGE\n",
       "0     39  android  male     bra   17\n",
       "1     39  android  male     bra   17\n",
       "2     49  android  male     bra   17\n",
       "3     29  android  male     tur   17\n",
       "4     49  android  male     tur   17"
      ]
     },
     "execution_count": 2,
     "metadata": {},
     "output_type": "execute_result"
    }
   ],
   "source": [
    "data_org = pd.read_csv(\"persona.csv\")\n",
    "df = data_org.copy()\n",
    "df.head()"
   ]
  },
  {
   "cell_type": "markdown",
   "metadata": {},
   "source": [
    "belirli demografik özelliklere sahip bir kullanıcı birden fazla alışveriş yapmış olabilir. Yani 0-1 satırları aynı müşteriye ait veriler olabilir.\n",
    "\n",
    "**Adım 2**: Veri setini yakından tanıyalım.."
   ]
  },
  {
   "cell_type": "code",
   "execution_count": 3,
   "metadata": {},
   "outputs": [
    {
     "name": "stdout",
     "output_type": "stream",
     "text": [
      "<class 'pandas.core.frame.DataFrame'>\n",
      "Int64Index: 5000 entries, 0 to 4999\n",
      "Data columns (total 5 columns):\n",
      " #   Column   Non-Null Count  Dtype \n",
      "---  ------   --------------  ----- \n",
      " 0   PRICE    5000 non-null   int64 \n",
      " 1   SOURCE   5000 non-null   object\n",
      " 2   SEX      5000 non-null   object\n",
      " 3   COUNTRY  5000 non-null   object\n",
      " 4   AGE      5000 non-null   int64 \n",
      "dtypes: int64(2), object(3)\n",
      "memory usage: 234.4+ KB\n"
     ]
    }
   ],
   "source": [
    "df.info() #5k gözlem, 5 değişken. Veri tipleri: 'int64'(2),'object'(3)"
   ]
  },
  {
   "cell_type": "code",
   "execution_count": 4,
   "metadata": {},
   "outputs": [
    {
     "data": {
      "text/html": [
       "<div>\n",
       "<style scoped>\n",
       "    .dataframe tbody tr th:only-of-type {\n",
       "        vertical-align: middle;\n",
       "    }\n",
       "\n",
       "    .dataframe tbody tr th {\n",
       "        vertical-align: top;\n",
       "    }\n",
       "\n",
       "    .dataframe thead th {\n",
       "        text-align: right;\n",
       "    }\n",
       "</style>\n",
       "<table border=\"1\" class=\"dataframe\">\n",
       "  <thead>\n",
       "    <tr style=\"text-align: right;\">\n",
       "      <th></th>\n",
       "      <th>count</th>\n",
       "      <th>mean</th>\n",
       "      <th>std</th>\n",
       "      <th>min</th>\n",
       "      <th>25%</th>\n",
       "      <th>50%</th>\n",
       "      <th>75%</th>\n",
       "      <th>max</th>\n",
       "    </tr>\n",
       "  </thead>\n",
       "  <tbody>\n",
       "    <tr>\n",
       "      <th>PRICE</th>\n",
       "      <td>5000.0</td>\n",
       "      <td>34.1320</td>\n",
       "      <td>12.464897</td>\n",
       "      <td>9.0</td>\n",
       "      <td>29.0</td>\n",
       "      <td>39.0</td>\n",
       "      <td>39.0</td>\n",
       "      <td>59.0</td>\n",
       "    </tr>\n",
       "    <tr>\n",
       "      <th>AGE</th>\n",
       "      <td>5000.0</td>\n",
       "      <td>23.5814</td>\n",
       "      <td>8.995908</td>\n",
       "      <td>15.0</td>\n",
       "      <td>17.0</td>\n",
       "      <td>21.0</td>\n",
       "      <td>27.0</td>\n",
       "      <td>66.0</td>\n",
       "    </tr>\n",
       "  </tbody>\n",
       "</table>\n",
       "</div>"
      ],
      "text/plain": [
       "        count     mean        std   min   25%   50%   75%   max\n",
       "PRICE  5000.0  34.1320  12.464897   9.0  29.0  39.0  39.0  59.0\n",
       "AGE    5000.0  23.5814   8.995908  15.0  17.0  21.0  27.0  66.0"
      ]
     },
     "execution_count": 4,
     "metadata": {},
     "output_type": "execute_result"
    }
   ],
   "source": [
    "df.describe().T # nümerik değişkenlerin özet istatistikleri"
   ]
  },
  {
   "cell_type": "code",
   "execution_count": 5,
   "metadata": {},
   "outputs": [
    {
     "data": {
      "text/plain": [
       "PRICE      0\n",
       "SOURCE     0\n",
       "SEX        0\n",
       "COUNTRY    0\n",
       "AGE        0\n",
       "dtype: int64"
      ]
     },
     "execution_count": 5,
     "metadata": {},
     "output_type": "execute_result"
    }
   ],
   "source": [
    "df.isnull().sum() #hiç eksik veri yok."
   ]
  },
  {
   "cell_type": "markdown",
   "metadata": {},
   "source": [
    "**Adım 2.1: Veri Görselleştirme**"
   ]
  },
  {
   "cell_type": "code",
   "execution_count": 6,
   "metadata": {},
   "outputs": [
    {
     "name": "stdout",
     "output_type": "stream",
     "text": [
      "Yüzdelik Oran Bilgisi \n",
      "\n",
      "         SOURCE  Ratio\n",
      "android    2974  59.48\n",
      "ios        2026  40.52\n"
     ]
    },
    {
     "data": {
      "image/png": "[encoded data removed]",
      "text/plain": [
       "<Figure size 432x288 with 1 Axes>"
      ]
     },
     "metadata": {
      "needs_background": "light"
     },
     "output_type": "display_data"
    },
    {
     "name": "stdout",
     "output_type": "stream",
     "text": [
      "Yüzdelik Oran Bilgisi \n",
      "\n",
      "         SEX  Ratio\n",
      "female  2621  52.42\n",
      "male    2379  47.58\n"
     ]
    },
    {
     "data": {
      "image/png": "[encoded data removed]",
      "text/plain": [
       "<Figure size 432x288 with 1 Axes>"
      ]
     },
     "metadata": {
      "needs_background": "light"
     },
     "output_type": "display_data"
    },
    {
     "name": "stdout",
     "output_type": "stream",
     "text": [
      "Yüzdelik Oran Bilgisi \n",
      "\n",
      "     COUNTRY  Ratio\n",
      "usa     2065  41.30\n",
      "bra     1496  29.92\n",
      "deu      455   9.10\n",
      "tur      451   9.02\n",
      "fra      303   6.06\n",
      "can      230   4.60\n"
     ]
    },
    {
     "data": {
      "image/png": "[encoded data removed]",
      "text/plain": [
       "<Figure size 432x288 with 1 Axes>"
      ]
     },
     "metadata": {
      "needs_background": "light"
     },
     "output_type": "display_data"
    }
   ],
   "source": [
    "#Kategorik değişkenlerin Yüzde oranlarını ver ve görselleştir\n",
    "\n",
    "def cat_summary(dataframe, col_name, plot=False): # yüzde oranlarını ver ve görselleştir\n",
    "    print(\"Yüzdelik Oran Bilgisi \\n\")\n",
    "    print(pd.DataFrame({col_name: dataframe[col_name].value_counts(),\n",
    "                        \"Ratio\": 100 * dataframe[col_name].value_counts() / len(dataframe)}))\n",
    "\n",
    "    if plot:\n",
    "        sns.countplot(x=dataframe[col_name], data=dataframe)\n",
    "        plt.show(block=True)\n",
    "        \n",
    "        \n",
    "list = [\"SOURCE\",\"SEX\",\"COUNTRY\"]\n",
    "for i in list:\n",
    "    cat_summary(df,i,True)"
   ]
  },
  {
   "cell_type": "code",
   "execution_count": 7,
   "metadata": {},
   "outputs": [
    {
     "name": "stdout",
     "output_type": "stream",
     "text": [
      "count    5000.000000\n",
      "mean       34.132000\n",
      "std        12.464897\n",
      "min         9.000000\n",
      "5%         19.000000\n",
      "10%        19.000000\n",
      "20%        19.000000\n",
      "30%        29.000000\n",
      "40%        29.000000\n",
      "50%        39.000000\n",
      "60%        39.000000\n",
      "70%        39.000000\n",
      "80%        49.000000\n",
      "90%        49.000000\n",
      "95%        49.000000\n",
      "99%        59.000000\n",
      "max        59.000000\n",
      "Name: PRICE, dtype: float64\n"
     ]
    },
    {
     "data": {
      "image/png": "[encoded data removed]",
      "text/plain": [
       "<Figure size 432x288 with 1 Axes>"
      ]
     },
     "metadata": {
      "needs_background": "light"
     },
     "output_type": "display_data"
    },
    {
     "name": "stdout",
     "output_type": "stream",
     "text": [
      "count    5000.000000\n",
      "mean       23.581400\n",
      "std         8.995908\n",
      "min        15.000000\n",
      "5%         15.000000\n",
      "10%        15.000000\n",
      "20%        16.000000\n",
      "30%        17.000000\n",
      "40%        19.000000\n",
      "50%        21.000000\n",
      "60%        23.000000\n",
      "70%        26.000000\n",
      "80%        30.000000\n",
      "90%        36.000000\n",
      "95%        43.000000\n",
      "99%        53.000000\n",
      "max        66.000000\n",
      "Name: AGE, dtype: float64\n"
     ]
    },
    {
     "data": {
      "image/png": "[encoded data removed]",
      "text/plain": [
       "<Figure size 432x288 with 1 Axes>"
      ]
     },
     "metadata": {
      "needs_background": "light"
     },
     "output_type": "display_data"
    }
   ],
   "source": [
    "#Nümerik değişkenlerin dağılım analizi\n",
    "\n",
    "def num_summary(df, numerical_col, plot=False):\n",
    "    quantiles = [0.05, 0.10, 0.20, 0.30, 0.40, 0.50, 0.60, 0.70, 0.80, 0.90, 0.95, 0.99]\n",
    "    print(df[numerical_col].describe(quantiles).T)\n",
    "\n",
    "    if plot:\n",
    "        df[numerical_col].hist()\n",
    "        plt.xlabel(numerical_col)\n",
    "        plt.title(numerical_col)\n",
    "        plt.show(block=True)\n",
    "\n",
    "list = [\"PRICE\", \"AGE\"]\n",
    "for i in list:\n",
    "    num_summary(df, i, plot=True)"
   ]
  },
  {
   "cell_type": "markdown",
   "metadata": {},
   "source": [
    "**Adım 3**: Amaç ve istenen görevler"
   ]
  },
  {
   "attachments": {
    "28b703f6-72c6-4ea4-a5ab-3aed93f9f0ab.png": {
     "image/png": "[encoded data removed]"
    },
    "92a58802-ab7b-47f7-88af-8f92bea96a63.png": {
     "image/png": "[encoded data removed]"
    }
   },
   "cell_type": "markdown",
   "metadata": {},
   "source": [
    "![image.png](attachment:28b703f6-72c6-4ea4-a5ab-3aed93f9f0ab.png)\n",
    "\n",
    "![image.png](attachment:92a58802-ab7b-47f7-88af-8f92bea96a63.png)"
   ]
  },
  {
   "cell_type": "markdown",
   "metadata": {},
   "source": [
    "### GÖREV 1\n",
    "**Aşağıdaki soruları yanıtlayınız.**\n",
    "\n",
    "- Kaç unique SOURCE vardır? Frekansları Nedir?"
   ]
  },
  {
   "cell_type": "code",
   "execution_count": 8,
   "metadata": {},
   "outputs": [
    {
     "name": "stdout",
     "output_type": "stream",
     "text": [
      "2\n"
     ]
    },
    {
     "data": {
      "text/plain": [
       "android    2974\n",
       "ios        2026\n",
       "Name: SOURCE, dtype: int64"
      ]
     },
     "execution_count": 8,
     "metadata": {},
     "output_type": "execute_result"
    }
   ],
   "source": [
    "print(df[\"SOURCE\"].nunique())\n",
    "df[\"SOURCE\"].value_counts()"
   ]
  },
  {
   "cell_type": "markdown",
   "metadata": {},
   "source": [
    "- Kaç unique PRICE vardır?"
   ]
  },
  {
   "cell_type": "code",
   "execution_count": 9,
   "metadata": {},
   "outputs": [
    {
     "name": "stdout",
     "output_type": "stream",
     "text": [
      "6\n"
     ]
    }
   ],
   "source": [
    "print(df[\"PRICE\"].nunique())"
   ]
  },
  {
   "cell_type": "markdown",
   "metadata": {},
   "source": [
    "- Hangi PRICE'dan kaçar tane satış gerçekleşmiş?"
   ]
  },
  {
   "cell_type": "code",
   "execution_count": 10,
   "metadata": {},
   "outputs": [
    {
     "data": {
      "text/plain": [
       "29    1305\n",
       "39    1260\n",
       "49    1031\n",
       "19     992\n",
       "59     212\n",
       "9      200\n",
       "Name: PRICE, dtype: int64"
      ]
     },
     "execution_count": 10,
     "metadata": {},
     "output_type": "execute_result"
    }
   ],
   "source": [
    "df[\"PRICE\"].value_counts()"
   ]
  },
  {
   "cell_type": "markdown",
   "metadata": {},
   "source": [
    "- Hangi ülkeden kaçar tane satış olmuş. (Aslında görselleş halinde görmüştük)"
   ]
  },
  {
   "cell_type": "code",
   "execution_count": 11,
   "metadata": {},
   "outputs": [
    {
     "data": {
      "text/plain": [
       "usa    2065\n",
       "bra    1496\n",
       "deu     455\n",
       "tur     451\n",
       "fra     303\n",
       "can     230\n",
       "Name: COUNTRY, dtype: int64"
      ]
     },
     "execution_count": 11,
     "metadata": {},
     "output_type": "execute_result"
    }
   ],
   "source": [
    "df[\"COUNTRY\"].value_counts()\n",
    "#df.groupby(\"COUNTRY\")[\"PRICE\"].count()"
   ]
  },
  {
   "cell_type": "markdown",
   "metadata": {},
   "source": [
    "- Ülkelere göre satışlardan toplam ne kadar kazanılmış?"
   ]
  },
  {
   "cell_type": "code",
   "execution_count": 12,
   "metadata": {},
   "outputs": [
    {
     "data": {
      "text/html": [
       "<div>\n",
       "<style scoped>\n",
       "    .dataframe tbody tr th:only-of-type {\n",
       "        vertical-align: middle;\n",
       "    }\n",
       "\n",
       "    .dataframe tbody tr th {\n",
       "        vertical-align: top;\n",
       "    }\n",
       "\n",
       "    .dataframe thead th {\n",
       "        text-align: right;\n",
       "    }\n",
       "</style>\n",
       "<table border=\"1\" class=\"dataframe\">\n",
       "  <thead>\n",
       "    <tr style=\"text-align: right;\">\n",
       "      <th></th>\n",
       "      <th>PRICE</th>\n",
       "    </tr>\n",
       "    <tr>\n",
       "      <th>COUNTRY</th>\n",
       "      <th></th>\n",
       "    </tr>\n",
       "  </thead>\n",
       "  <tbody>\n",
       "    <tr>\n",
       "      <th>bra</th>\n",
       "      <td>51354</td>\n",
       "    </tr>\n",
       "    <tr>\n",
       "      <th>can</th>\n",
       "      <td>7730</td>\n",
       "    </tr>\n",
       "    <tr>\n",
       "      <th>deu</th>\n",
       "      <td>15485</td>\n",
       "    </tr>\n",
       "    <tr>\n",
       "      <th>fra</th>\n",
       "      <td>10177</td>\n",
       "    </tr>\n",
       "    <tr>\n",
       "      <th>tur</th>\n",
       "      <td>15689</td>\n",
       "    </tr>\n",
       "    <tr>\n",
       "      <th>usa</th>\n",
       "      <td>70225</td>\n",
       "    </tr>\n",
       "  </tbody>\n",
       "</table>\n",
       "</div>"
      ],
      "text/plain": [
       "         PRICE\n",
       "COUNTRY       \n",
       "bra      51354\n",
       "can       7730\n",
       "deu      15485\n",
       "fra      10177\n",
       "tur      15689\n",
       "usa      70225"
      ]
     },
     "execution_count": 12,
     "metadata": {},
     "output_type": "execute_result"
    }
   ],
   "source": [
    "#df.groupby(\"COUNTRY\")[\"PRICE\"].sum()\n",
    "df.groupby(\"COUNTRY\").agg({\"PRICE\": \"sum\"}) #agg alışmak önemli, birden fazla değişkene çoklu toplulaştırma fonk. uygulayabilme imkanı sağlar."
   ]
  },
  {
   "cell_type": "markdown",
   "metadata": {},
   "source": [
    "- SOURCE türlerine göre satış sayıları nedir?"
   ]
  },
  {
   "cell_type": "code",
   "execution_count": 13,
   "metadata": {},
   "outputs": [
    {
     "data": {
      "text/plain": [
       "android    2974\n",
       "ios        2026\n",
       "Name: SOURCE, dtype: int64"
      ]
     },
     "execution_count": 13,
     "metadata": {},
     "output_type": "execute_result"
    }
   ],
   "source": [
    "df[\"SOURCE\"].value_counts()"
   ]
  },
  {
   "cell_type": "markdown",
   "metadata": {},
   "source": [
    "- Ülkelere göre PRICE ortalamaları nedir?"
   ]
  },
  {
   "cell_type": "code",
   "execution_count": 14,
   "metadata": {},
   "outputs": [
    {
     "data": {
      "text/html": [
       "<div>\n",
       "<style scoped>\n",
       "    .dataframe tbody tr th:only-of-type {\n",
       "        vertical-align: middle;\n",
       "    }\n",
       "\n",
       "    .dataframe tbody tr th {\n",
       "        vertical-align: top;\n",
       "    }\n",
       "\n",
       "    .dataframe thead th {\n",
       "        text-align: right;\n",
       "    }\n",
       "</style>\n",
       "<table border=\"1\" class=\"dataframe\">\n",
       "  <thead>\n",
       "    <tr style=\"text-align: right;\">\n",
       "      <th></th>\n",
       "      <th>PRICE</th>\n",
       "    </tr>\n",
       "    <tr>\n",
       "      <th>COUNTRY</th>\n",
       "      <th></th>\n",
       "    </tr>\n",
       "  </thead>\n",
       "  <tbody>\n",
       "    <tr>\n",
       "      <th>bra</th>\n",
       "      <td>34.327540</td>\n",
       "    </tr>\n",
       "    <tr>\n",
       "      <th>can</th>\n",
       "      <td>33.608696</td>\n",
       "    </tr>\n",
       "    <tr>\n",
       "      <th>deu</th>\n",
       "      <td>34.032967</td>\n",
       "    </tr>\n",
       "    <tr>\n",
       "      <th>fra</th>\n",
       "      <td>33.587459</td>\n",
       "    </tr>\n",
       "    <tr>\n",
       "      <th>tur</th>\n",
       "      <td>34.787140</td>\n",
       "    </tr>\n",
       "    <tr>\n",
       "      <th>usa</th>\n",
       "      <td>34.007264</td>\n",
       "    </tr>\n",
       "  </tbody>\n",
       "</table>\n",
       "</div>"
      ],
      "text/plain": [
       "             PRICE\n",
       "COUNTRY           \n",
       "bra      34.327540\n",
       "can      33.608696\n",
       "deu      34.032967\n",
       "fra      33.587459\n",
       "tur      34.787140\n",
       "usa      34.007264"
      ]
     },
     "execution_count": 14,
     "metadata": {},
     "output_type": "execute_result"
    }
   ],
   "source": [
    "df.groupby(\"COUNTRY\").agg({\"PRICE\": \"mean\"})\n",
    "#df.groupby(by=['COUNTRY']).agg({\"PRICE\": \"mean\"})"
   ]
  },
  {
   "cell_type": "markdown",
   "metadata": {},
   "source": [
    "- SOURCE'lara göre PRICE ortalamaları nedir?"
   ]
  },
  {
   "cell_type": "code",
   "execution_count": 15,
   "metadata": {},
   "outputs": [
    {
     "data": {
      "text/html": [
       "<div>\n",
       "<style scoped>\n",
       "    .dataframe tbody tr th:only-of-type {\n",
       "        vertical-align: middle;\n",
       "    }\n",
       "\n",
       "    .dataframe tbody tr th {\n",
       "        vertical-align: top;\n",
       "    }\n",
       "\n",
       "    .dataframe thead th {\n",
       "        text-align: right;\n",
       "    }\n",
       "</style>\n",
       "<table border=\"1\" class=\"dataframe\">\n",
       "  <thead>\n",
       "    <tr style=\"text-align: right;\">\n",
       "      <th></th>\n",
       "      <th>PRICE</th>\n",
       "    </tr>\n",
       "    <tr>\n",
       "      <th>SOURCE</th>\n",
       "      <th></th>\n",
       "    </tr>\n",
       "  </thead>\n",
       "  <tbody>\n",
       "    <tr>\n",
       "      <th>android</th>\n",
       "      <td>34.174849</td>\n",
       "    </tr>\n",
       "    <tr>\n",
       "      <th>ios</th>\n",
       "      <td>34.069102</td>\n",
       "    </tr>\n",
       "  </tbody>\n",
       "</table>\n",
       "</div>"
      ],
      "text/plain": [
       "             PRICE\n",
       "SOURCE            \n",
       "android  34.174849\n",
       "ios      34.069102"
      ]
     },
     "execution_count": 15,
     "metadata": {},
     "output_type": "execute_result"
    }
   ],
   "source": [
    "df.groupby(\"SOURCE\").agg({\"PRICE\": \"mean\"})"
   ]
  },
  {
   "cell_type": "markdown",
   "metadata": {},
   "source": [
    "- COUNTRY - SOURCE kırılımında PRICE ortalamaları nedir?"
   ]
  },
  {
   "cell_type": "code",
   "execution_count": 16,
   "metadata": {},
   "outputs": [
    {
     "data": {
      "text/html": [
       "<div>\n",
       "<style scoped>\n",
       "    .dataframe tbody tr th:only-of-type {\n",
       "        vertical-align: middle;\n",
       "    }\n",
       "\n",
       "    .dataframe tbody tr th {\n",
       "        vertical-align: top;\n",
       "    }\n",
       "\n",
       "    .dataframe thead th {\n",
       "        text-align: right;\n",
       "    }\n",
       "</style>\n",
       "<table border=\"1\" class=\"dataframe\">\n",
       "  <thead>\n",
       "    <tr style=\"text-align: right;\">\n",
       "      <th></th>\n",
       "      <th></th>\n",
       "      <th>PRICE</th>\n",
       "    </tr>\n",
       "    <tr>\n",
       "      <th>COUNTRY</th>\n",
       "      <th>SOURCE</th>\n",
       "      <th></th>\n",
       "    </tr>\n",
       "  </thead>\n",
       "  <tbody>\n",
       "    <tr>\n",
       "      <th rowspan=\"2\" valign=\"top\">bra</th>\n",
       "      <th>android</th>\n",
       "      <td>34.387029</td>\n",
       "    </tr>\n",
       "    <tr>\n",
       "      <th>ios</th>\n",
       "      <td>34.222222</td>\n",
       "    </tr>\n",
       "    <tr>\n",
       "      <th rowspan=\"2\" valign=\"top\">can</th>\n",
       "      <th>android</th>\n",
       "      <td>33.330709</td>\n",
       "    </tr>\n",
       "    <tr>\n",
       "      <th>ios</th>\n",
       "      <td>33.951456</td>\n",
       "    </tr>\n",
       "    <tr>\n",
       "      <th rowspan=\"2\" valign=\"top\">deu</th>\n",
       "      <th>android</th>\n",
       "      <td>33.869888</td>\n",
       "    </tr>\n",
       "    <tr>\n",
       "      <th>ios</th>\n",
       "      <td>34.268817</td>\n",
       "    </tr>\n",
       "    <tr>\n",
       "      <th rowspan=\"2\" valign=\"top\">fra</th>\n",
       "      <th>android</th>\n",
       "      <td>34.312500</td>\n",
       "    </tr>\n",
       "    <tr>\n",
       "      <th>ios</th>\n",
       "      <td>32.776224</td>\n",
       "    </tr>\n",
       "    <tr>\n",
       "      <th rowspan=\"2\" valign=\"top\">tur</th>\n",
       "      <th>android</th>\n",
       "      <td>36.229437</td>\n",
       "    </tr>\n",
       "    <tr>\n",
       "      <th>ios</th>\n",
       "      <td>33.272727</td>\n",
       "    </tr>\n",
       "    <tr>\n",
       "      <th rowspan=\"2\" valign=\"top\">usa</th>\n",
       "      <th>android</th>\n",
       "      <td>33.760357</td>\n",
       "    </tr>\n",
       "    <tr>\n",
       "      <th>ios</th>\n",
       "      <td>34.371703</td>\n",
       "    </tr>\n",
       "  </tbody>\n",
       "</table>\n",
       "</div>"
      ],
      "text/plain": [
       "                     PRICE\n",
       "COUNTRY SOURCE            \n",
       "bra     android  34.387029\n",
       "        ios      34.222222\n",
       "can     android  33.330709\n",
       "        ios      33.951456\n",
       "deu     android  33.869888\n",
       "        ios      34.268817\n",
       "fra     android  34.312500\n",
       "        ios      32.776224\n",
       "tur     android  36.229437\n",
       "        ios      33.272727\n",
       "usa     android  33.760357\n",
       "        ios      34.371703"
      ]
     },
     "execution_count": 16,
     "metadata": {},
     "output_type": "execute_result"
    }
   ],
   "source": [
    "df.groupby([\"COUNTRY\", \"SOURCE\"]).agg({\"PRICE\": \"mean\"}) #kırılımı göstermek için list[] tipinde kolonları almalıyız."
   ]
  },
  {
   "cell_type": "markdown",
   "metadata": {},
   "source": [
    "### GÖREV 2\n",
    "**COUNTRY, SOURCE, SEX, AGE kırılımında >>ortalama kazanç<< nedir?**"
   ]
  },
  {
   "cell_type": "code",
   "execution_count": 17,
   "metadata": {},
   "outputs": [
    {
     "data": {
      "text/html": [
       "<div>\n",
       "<style scoped>\n",
       "    .dataframe tbody tr th:only-of-type {\n",
       "        vertical-align: middle;\n",
       "    }\n",
       "\n",
       "    .dataframe tbody tr th {\n",
       "        vertical-align: top;\n",
       "    }\n",
       "\n",
       "    .dataframe thead th {\n",
       "        text-align: right;\n",
       "    }\n",
       "</style>\n",
       "<table border=\"1\" class=\"dataframe\">\n",
       "  <thead>\n",
       "    <tr style=\"text-align: right;\">\n",
       "      <th></th>\n",
       "      <th></th>\n",
       "      <th></th>\n",
       "      <th></th>\n",
       "      <th>PRICE</th>\n",
       "    </tr>\n",
       "    <tr>\n",
       "      <th>COUNTRY</th>\n",
       "      <th>SOURCE</th>\n",
       "      <th>SEX</th>\n",
       "      <th>AGE</th>\n",
       "      <th></th>\n",
       "    </tr>\n",
       "  </thead>\n",
       "  <tbody>\n",
       "    <tr>\n",
       "      <th rowspan=\"5\" valign=\"top\">bra</th>\n",
       "      <th rowspan=\"5\" valign=\"top\">android</th>\n",
       "      <th rowspan=\"5\" valign=\"top\">female</th>\n",
       "      <th>15</th>\n",
       "      <td>38.714286</td>\n",
       "    </tr>\n",
       "    <tr>\n",
       "      <th>16</th>\n",
       "      <td>35.944444</td>\n",
       "    </tr>\n",
       "    <tr>\n",
       "      <th>17</th>\n",
       "      <td>35.666667</td>\n",
       "    </tr>\n",
       "    <tr>\n",
       "      <th>18</th>\n",
       "      <td>32.255814</td>\n",
       "    </tr>\n",
       "    <tr>\n",
       "      <th>19</th>\n",
       "      <td>35.206897</td>\n",
       "    </tr>\n",
       "  </tbody>\n",
       "</table>\n",
       "</div>"
      ],
      "text/plain": [
       "                                PRICE\n",
       "COUNTRY SOURCE  SEX    AGE           \n",
       "bra     android female 15   38.714286\n",
       "                       16   35.944444\n",
       "                       17   35.666667\n",
       "                       18   32.255814\n",
       "                       19   35.206897"
      ]
     },
     "execution_count": 17,
     "metadata": {},
     "output_type": "execute_result"
    }
   ],
   "source": [
    "list = [\"COUNTRY\", \"SOURCE\", \"SEX\", \"AGE\"]\n",
    "df.groupby(list).agg({\"PRICE\": \"mean\"}).head()"
   ]
  },
  {
   "cell_type": "markdown",
   "metadata": {},
   "source": [
    "### GÖREV 3\n",
    "**Çıktıyı PRICE'a göre sıralayınız**\n",
    "\n",
    "Önceki soruda çıktıyı daha iyi görebilmek için sort_values metodunu azalan olacak şekilde PRICE'a göre uygulayınız.\n",
    "\n",
    "Çıktıyı agg_df olarak kaydediniz."
   ]
  },
  {
   "cell_type": "code",
   "execution_count": 18,
   "metadata": {},
   "outputs": [
    {
     "data": {
      "text/html": [
       "<div>\n",
       "<style scoped>\n",
       "    .dataframe tbody tr th:only-of-type {\n",
       "        vertical-align: middle;\n",
       "    }\n",
       "\n",
       "    .dataframe tbody tr th {\n",
       "        vertical-align: top;\n",
       "    }\n",
       "\n",
       "    .dataframe thead th {\n",
       "        text-align: right;\n",
       "    }\n",
       "</style>\n",
       "<table border=\"1\" class=\"dataframe\">\n",
       "  <thead>\n",
       "    <tr style=\"text-align: right;\">\n",
       "      <th></th>\n",
       "      <th></th>\n",
       "      <th></th>\n",
       "      <th></th>\n",
       "      <th>PRICE</th>\n",
       "    </tr>\n",
       "    <tr>\n",
       "      <th>COUNTRY</th>\n",
       "      <th>SOURCE</th>\n",
       "      <th>SEX</th>\n",
       "      <th>AGE</th>\n",
       "      <th></th>\n",
       "    </tr>\n",
       "  </thead>\n",
       "  <tbody>\n",
       "    <tr>\n",
       "      <th>bra</th>\n",
       "      <th>android</th>\n",
       "      <th>male</th>\n",
       "      <th>46</th>\n",
       "      <td>59.0</td>\n",
       "    </tr>\n",
       "    <tr>\n",
       "      <th>usa</th>\n",
       "      <th>android</th>\n",
       "      <th>male</th>\n",
       "      <th>36</th>\n",
       "      <td>59.0</td>\n",
       "    </tr>\n",
       "    <tr>\n",
       "      <th>fra</th>\n",
       "      <th>android</th>\n",
       "      <th>female</th>\n",
       "      <th>24</th>\n",
       "      <td>59.0</td>\n",
       "    </tr>\n",
       "    <tr>\n",
       "      <th>usa</th>\n",
       "      <th>ios</th>\n",
       "      <th>male</th>\n",
       "      <th>32</th>\n",
       "      <td>54.0</td>\n",
       "    </tr>\n",
       "    <tr>\n",
       "      <th>deu</th>\n",
       "      <th>android</th>\n",
       "      <th>female</th>\n",
       "      <th>36</th>\n",
       "      <td>49.0</td>\n",
       "    </tr>\n",
       "  </tbody>\n",
       "</table>\n",
       "</div>"
      ],
      "text/plain": [
       "                            PRICE\n",
       "COUNTRY SOURCE  SEX    AGE       \n",
       "bra     android male   46    59.0\n",
       "usa     android male   36    59.0\n",
       "fra     android female 24    59.0\n",
       "usa     ios     male   32    54.0\n",
       "deu     android female 36    49.0"
      ]
     },
     "execution_count": 18,
     "metadata": {},
     "output_type": "execute_result"
    }
   ],
   "source": [
    "list = [\"COUNTRY\", \"SOURCE\", \"SEX\", \"AGE\"]\n",
    "agg_df = df.groupby(list).agg({\"PRICE\": \"mean\"}).sort_values(\"PRICE\", ascending = False)\n",
    "agg_df.head()"
   ]
  },
  {
   "cell_type": "markdown",
   "metadata": {},
   "source": [
    "### GÖREV 3\n",
    "**Indexte yer alan isimleri değişken ismine çeviriniz**\n",
    "\n",
    "Üçüncü sorunun çıktısında yer alan PRICE dışındaki tüm değişkenler index isimleridir. Bu isimleri değişken isimlerini çeviriniz."
   ]
  },
  {
   "cell_type": "code",
   "execution_count": 19,
   "metadata": {},
   "outputs": [
    {
     "name": "stdout",
     "output_type": "stream",
     "text": [
      "<class 'pandas.core.frame.DataFrame'>\n",
      "MultiIndex: 348 entries, ('bra', 'android', 'male', 46) to ('deu', 'android', 'male', 26)\n",
      "Data columns (total 1 columns):\n",
      " #   Column  Non-Null Count  Dtype  \n",
      "---  ------  --------------  -----  \n",
      " 0   PRICE   348 non-null    float64\n",
      "dtypes: float64(1)\n",
      "memory usage: 4.7+ KB\n"
     ]
    }
   ],
   "source": [
    "agg_df.info() #Şuan görüldüğü izere sadece PRICE değişkeni kolon olarak gözüküyor."
   ]
  },
  {
   "cell_type": "code",
   "execution_count": 20,
   "metadata": {},
   "outputs": [
    {
     "data": {
      "text/html": [
       "<div>\n",
       "<style scoped>\n",
       "    .dataframe tbody tr th:only-of-type {\n",
       "        vertical-align: middle;\n",
       "    }\n",
       "\n",
       "    .dataframe tbody tr th {\n",
       "        vertical-align: top;\n",
       "    }\n",
       "\n",
       "    .dataframe thead th {\n",
       "        text-align: right;\n",
       "    }\n",
       "</style>\n",
       "<table border=\"1\" class=\"dataframe\">\n",
       "  <thead>\n",
       "    <tr style=\"text-align: right;\">\n",
       "      <th></th>\n",
       "      <th>COUNTRY</th>\n",
       "      <th>SOURCE</th>\n",
       "      <th>SEX</th>\n",
       "      <th>AGE</th>\n",
       "      <th>PRICE</th>\n",
       "    </tr>\n",
       "  </thead>\n",
       "  <tbody>\n",
       "    <tr>\n",
       "      <th>0</th>\n",
       "      <td>bra</td>\n",
       "      <td>android</td>\n",
       "      <td>male</td>\n",
       "      <td>46</td>\n",
       "      <td>59.0</td>\n",
       "    </tr>\n",
       "    <tr>\n",
       "      <th>1</th>\n",
       "      <td>usa</td>\n",
       "      <td>android</td>\n",
       "      <td>male</td>\n",
       "      <td>36</td>\n",
       "      <td>59.0</td>\n",
       "    </tr>\n",
       "    <tr>\n",
       "      <th>2</th>\n",
       "      <td>fra</td>\n",
       "      <td>android</td>\n",
       "      <td>female</td>\n",
       "      <td>24</td>\n",
       "      <td>59.0</td>\n",
       "    </tr>\n",
       "    <tr>\n",
       "      <th>3</th>\n",
       "      <td>usa</td>\n",
       "      <td>ios</td>\n",
       "      <td>male</td>\n",
       "      <td>32</td>\n",
       "      <td>54.0</td>\n",
       "    </tr>\n",
       "    <tr>\n",
       "      <th>4</th>\n",
       "      <td>deu</td>\n",
       "      <td>android</td>\n",
       "      <td>female</td>\n",
       "      <td>36</td>\n",
       "      <td>49.0</td>\n",
       "    </tr>\n",
       "  </tbody>\n",
       "</table>\n",
       "</div>"
      ],
      "text/plain": [
       "  COUNTRY   SOURCE     SEX  AGE  PRICE\n",
       "0     bra  android    male   46   59.0\n",
       "1     usa  android    male   36   59.0\n",
       "2     fra  android  female   24   59.0\n",
       "3     usa      ios    male   32   54.0\n",
       "4     deu  android  female   36   49.0"
      ]
     },
     "execution_count": 20,
     "metadata": {},
     "output_type": "execute_result"
    }
   ],
   "source": [
    "agg_df = agg_df.reset_index() #index değerlerini 0'lar ve index olarak gözüken değişkenleri kolon (veri setinin özelliği) yapar.\n",
    "agg_df.head()"
   ]
  },
  {
   "cell_type": "markdown",
   "metadata": {},
   "source": [
    "### GÖREV 5\n",
    "**Age değişkenini kategorik değişkene çeviriniz ve agg_df'e ekleyiniz.**\n",
    "\n",
    "Age sayısal değişkenini kategorik değişkene çeviriniz.\n",
    "\n",
    "Aralıkları ikna edici şekilde oluşturunuz.\n",
    "\n",
    "Örneğin '0_18', '19-23', '24-30', '31-40', '41-70'"
   ]
  },
  {
   "cell_type": "code",
   "execution_count": 21,
   "metadata": {},
   "outputs": [
    {
     "data": {
      "text/html": [
       "<div>\n",
       "<style scoped>\n",
       "    .dataframe tbody tr th:only-of-type {\n",
       "        vertical-align: middle;\n",
       "    }\n",
       "\n",
       "    .dataframe tbody tr th {\n",
       "        vertical-align: top;\n",
       "    }\n",
       "\n",
       "    .dataframe thead th {\n",
       "        text-align: right;\n",
       "    }\n",
       "</style>\n",
       "<table border=\"1\" class=\"dataframe\">\n",
       "  <thead>\n",
       "    <tr style=\"text-align: right;\">\n",
       "      <th></th>\n",
       "      <th>COUNTRY</th>\n",
       "      <th>SOURCE</th>\n",
       "      <th>SEX</th>\n",
       "      <th>AGE</th>\n",
       "      <th>PRICE</th>\n",
       "      <th>AGE_CAT</th>\n",
       "    </tr>\n",
       "  </thead>\n",
       "  <tbody>\n",
       "    <tr>\n",
       "      <th>0</th>\n",
       "      <td>bra</td>\n",
       "      <td>android</td>\n",
       "      <td>male</td>\n",
       "      <td>46</td>\n",
       "      <td>59.0</td>\n",
       "      <td>41_70</td>\n",
       "    </tr>\n",
       "    <tr>\n",
       "      <th>1</th>\n",
       "      <td>usa</td>\n",
       "      <td>android</td>\n",
       "      <td>male</td>\n",
       "      <td>36</td>\n",
       "      <td>59.0</td>\n",
       "      <td>31_40</td>\n",
       "    </tr>\n",
       "    <tr>\n",
       "      <th>2</th>\n",
       "      <td>fra</td>\n",
       "      <td>android</td>\n",
       "      <td>female</td>\n",
       "      <td>24</td>\n",
       "      <td>59.0</td>\n",
       "      <td>24_30</td>\n",
       "    </tr>\n",
       "    <tr>\n",
       "      <th>3</th>\n",
       "      <td>usa</td>\n",
       "      <td>ios</td>\n",
       "      <td>male</td>\n",
       "      <td>32</td>\n",
       "      <td>54.0</td>\n",
       "      <td>31_40</td>\n",
       "    </tr>\n",
       "    <tr>\n",
       "      <th>4</th>\n",
       "      <td>deu</td>\n",
       "      <td>android</td>\n",
       "      <td>female</td>\n",
       "      <td>36</td>\n",
       "      <td>49.0</td>\n",
       "      <td>31_40</td>\n",
       "    </tr>\n",
       "  </tbody>\n",
       "</table>\n",
       "</div>"
      ],
      "text/plain": [
       "  COUNTRY   SOURCE     SEX  AGE  PRICE AGE_CAT\n",
       "0     bra  android    male   46   59.0   41_70\n",
       "1     usa  android    male   36   59.0   31_40\n",
       "2     fra  android  female   24   59.0   24_30\n",
       "3     usa      ios    male   32   54.0   31_40\n",
       "4     deu  android  female   36   49.0   31_40"
      ]
     },
     "execution_count": 21,
     "metadata": {},
     "output_type": "execute_result"
    }
   ],
   "source": [
    "df[\"AGE\"].nunique()\n",
    "\n",
    "quantiles = [0, 18, 23, 30, 40, 70]\n",
    "#bins = [0, 18, 23, 30, 40, agg_df[\"AGE\"].max()] yaş sınırını globalleştirmek için\n",
    "\n",
    "my_labels=['0_18', '19_23', '24_30', '31_40', '41_70']\n",
    "#mylabels = ['0_18', '19_23', '24_30', '31_40', '41_' + str(agg_df[\"AGE\"].max())] yaş sınırı global\n",
    "\n",
    "agg_df[\"AGE_CAT\"] = pd.cut(agg_df[\"AGE\"], quantiles, labels = my_labels)\n",
    "agg_df.head()"
   ]
  },
  {
   "cell_type": "markdown",
   "metadata": {},
   "source": [
    "### GÖREV 6\n",
    "\n",
    "**Yeni seviye tabanlı müşterileri (persona) tanımlayınız**\n",
    "\n",
    "Yeni **seviye tabanlı müşterileri (persona)** tanımlayınız ve veri setine değişken olarak ekleyiniz.\n",
    "\n",
    "Yeni eklenecek değişkenin adı: customers_level_based\n",
    "\n",
    "Önceki soruda elde edeceğiniz çıktıdaki gözlemleri bir araya getirerek **customers_level_based** değişkenini oluşturmanız gerekmektedir.\n",
    "\n",
    "Dikkat: ListComprehension ile customers_level_based değerleri oluşturulduktan sonra bu değerlerin tekilleştirilmesi gerekmektedir. Örneğin birden fazla şu ifadeden olabilir. USA_ANDROID_MALE_0_18. Bunları groupby'a alıp price ortalamalarını almak gerekmektedir."
   ]
  },
  {
   "attachments": {
    "f54086f8-7b10-4d0c-898c-192068e8f5f2.png": {
     "image/png": "[encoded data removed]"
    }
   },
   "cell_type": "markdown",
   "metadata": {},
   "source": [
    "![image.png](attachment:f54086f8-7b10-4d0c-898c-192068e8f5f2.png)"
   ]
  },
  {
   "cell_type": "code",
   "execution_count": 22,
   "metadata": {},
   "outputs": [
    {
     "data": {
      "text/plain": [
       "Index(['COUNTRY', 'SOURCE', 'SEX', 'AGE', 'PRICE', 'AGE_CAT'], dtype='object')"
      ]
     },
     "execution_count": 22,
     "metadata": {},
     "output_type": "execute_result"
    }
   ],
   "source": [
    "agg_df.columns\n",
    "#column[0]: PRICE\n",
    "#column[1]: SOURCE\n",
    "#column[2]: SEX\n",
    "#column[3]: COUNTRY\n",
    "#column[4]: AGE\n",
    "#column[5]: AGE_CAT"
   ]
  },
  {
   "cell_type": "code",
   "execution_count": 23,
   "metadata": {},
   "outputs": [],
   "source": [
    "c_l_b = [row[0].upper() + \"_\" + row[1].upper() + \"_\" + row[2].upper() + \"_\" + row[5].upper() for row in agg_df.values]"
   ]
  },
  {
   "cell_type": "code",
   "execution_count": 24,
   "metadata": {},
   "outputs": [
    {
     "data": {
      "text/html": [
       "<div>\n",
       "<style scoped>\n",
       "    .dataframe tbody tr th:only-of-type {\n",
       "        vertical-align: middle;\n",
       "    }\n",
       "\n",
       "    .dataframe tbody tr th {\n",
       "        vertical-align: top;\n",
       "    }\n",
       "\n",
       "    .dataframe thead th {\n",
       "        text-align: right;\n",
       "    }\n",
       "</style>\n",
       "<table border=\"1\" class=\"dataframe\">\n",
       "  <thead>\n",
       "    <tr style=\"text-align: right;\">\n",
       "      <th></th>\n",
       "      <th>COUNTRY</th>\n",
       "      <th>SOURCE</th>\n",
       "      <th>SEX</th>\n",
       "      <th>AGE</th>\n",
       "      <th>PRICE</th>\n",
       "      <th>AGE_CAT</th>\n",
       "      <th>customers_level_based</th>\n",
       "    </tr>\n",
       "  </thead>\n",
       "  <tbody>\n",
       "    <tr>\n",
       "      <th>0</th>\n",
       "      <td>bra</td>\n",
       "      <td>android</td>\n",
       "      <td>male</td>\n",
       "      <td>46</td>\n",
       "      <td>59.0</td>\n",
       "      <td>41_70</td>\n",
       "      <td>BRA_ANDROID_MALE_41_70</td>\n",
       "    </tr>\n",
       "    <tr>\n",
       "      <th>1</th>\n",
       "      <td>usa</td>\n",
       "      <td>android</td>\n",
       "      <td>male</td>\n",
       "      <td>36</td>\n",
       "      <td>59.0</td>\n",
       "      <td>31_40</td>\n",
       "      <td>USA_ANDROID_MALE_31_40</td>\n",
       "    </tr>\n",
       "    <tr>\n",
       "      <th>2</th>\n",
       "      <td>fra</td>\n",
       "      <td>android</td>\n",
       "      <td>female</td>\n",
       "      <td>24</td>\n",
       "      <td>59.0</td>\n",
       "      <td>24_30</td>\n",
       "      <td>FRA_ANDROID_FEMALE_24_30</td>\n",
       "    </tr>\n",
       "    <tr>\n",
       "      <th>3</th>\n",
       "      <td>usa</td>\n",
       "      <td>ios</td>\n",
       "      <td>male</td>\n",
       "      <td>32</td>\n",
       "      <td>54.0</td>\n",
       "      <td>31_40</td>\n",
       "      <td>USA_IOS_MALE_31_40</td>\n",
       "    </tr>\n",
       "    <tr>\n",
       "      <th>4</th>\n",
       "      <td>deu</td>\n",
       "      <td>android</td>\n",
       "      <td>female</td>\n",
       "      <td>36</td>\n",
       "      <td>49.0</td>\n",
       "      <td>31_40</td>\n",
       "      <td>DEU_ANDROID_FEMALE_31_40</td>\n",
       "    </tr>\n",
       "  </tbody>\n",
       "</table>\n",
       "</div>"
      ],
      "text/plain": [
       "  COUNTRY   SOURCE     SEX  AGE  PRICE AGE_CAT     customers_level_based\n",
       "0     bra  android    male   46   59.0   41_70    BRA_ANDROID_MALE_41_70\n",
       "1     usa  android    male   36   59.0   31_40    USA_ANDROID_MALE_31_40\n",
       "2     fra  android  female   24   59.0   24_30  FRA_ANDROID_FEMALE_24_30\n",
       "3     usa      ios    male   32   54.0   31_40        USA_IOS_MALE_31_40\n",
       "4     deu  android  female   36   49.0   31_40  DEU_ANDROID_FEMALE_31_40"
      ]
     },
     "execution_count": 24,
     "metadata": {},
     "output_type": "execute_result"
    }
   ],
   "source": [
    "agg_df[\"customers_level_based\"] = c_l_b\n",
    "agg_df.head()"
   ]
  },
  {
   "cell_type": "code",
   "execution_count": 25,
   "metadata": {},
   "outputs": [
    {
     "data": {
      "text/html": [
       "<div>\n",
       "<style scoped>\n",
       "    .dataframe tbody tr th:only-of-type {\n",
       "        vertical-align: middle;\n",
       "    }\n",
       "\n",
       "    .dataframe tbody tr th {\n",
       "        vertical-align: top;\n",
       "    }\n",
       "\n",
       "    .dataframe thead th {\n",
       "        text-align: right;\n",
       "    }\n",
       "</style>\n",
       "<table border=\"1\" class=\"dataframe\">\n",
       "  <thead>\n",
       "    <tr style=\"text-align: right;\">\n",
       "      <th></th>\n",
       "      <th>customers_level_based</th>\n",
       "      <th>PRICE</th>\n",
       "    </tr>\n",
       "  </thead>\n",
       "  <tbody>\n",
       "    <tr>\n",
       "      <th>0</th>\n",
       "      <td>BRA_ANDROID_MALE_41_70</td>\n",
       "      <td>59.0</td>\n",
       "    </tr>\n",
       "    <tr>\n",
       "      <th>1</th>\n",
       "      <td>USA_ANDROID_MALE_31_40</td>\n",
       "      <td>59.0</td>\n",
       "    </tr>\n",
       "    <tr>\n",
       "      <th>2</th>\n",
       "      <td>FRA_ANDROID_FEMALE_24_30</td>\n",
       "      <td>59.0</td>\n",
       "    </tr>\n",
       "    <tr>\n",
       "      <th>3</th>\n",
       "      <td>USA_IOS_MALE_31_40</td>\n",
       "      <td>54.0</td>\n",
       "    </tr>\n",
       "    <tr>\n",
       "      <th>4</th>\n",
       "      <td>DEU_ANDROID_FEMALE_31_40</td>\n",
       "      <td>49.0</td>\n",
       "    </tr>\n",
       "  </tbody>\n",
       "</table>\n",
       "</div>"
      ],
      "text/plain": [
       "      customers_level_based  PRICE\n",
       "0    BRA_ANDROID_MALE_41_70   59.0\n",
       "1    USA_ANDROID_MALE_31_40   59.0\n",
       "2  FRA_ANDROID_FEMALE_24_30   59.0\n",
       "3        USA_IOS_MALE_31_40   54.0\n",
       "4  DEU_ANDROID_FEMALE_31_40   49.0"
      ]
     },
     "execution_count": 25,
     "metadata": {},
     "output_type": "execute_result"
    }
   ],
   "source": [
    "agg_df = agg_df[[\"customers_level_based\", \"PRICE\"]] #Elde edilmesi gereken çıktı için\n",
    "agg_df.head()"
   ]
  },
  {
   "cell_type": "markdown",
   "metadata": {},
   "source": [
    "Dikkat bölümünde yer alan tekilleştirme için;"
   ]
  },
  {
   "cell_type": "code",
   "execution_count": 26,
   "metadata": {},
   "outputs": [
    {
     "data": {
      "text/plain": [
       "USA_IOS_FEMALE_24_30        7\n",
       "USA_ANDROID_MALE_24_30      7\n",
       "BRA_ANDROID_MALE_24_30      7\n",
       "BRA_ANDROID_FEMALE_24_30    7\n",
       "USA_ANDROID_MALE_41_70      7\n",
       "                           ..\n",
       "CAN_IOS_MALE_31_40          1\n",
       "CAN_IOS_MALE_41_70          1\n",
       "FRA_IOS_MALE_41_70          1\n",
       "CAN_ANDROID_MALE_41_70      1\n",
       "FRA_ANDROID_MALE_24_30      1\n",
       "Name: customers_level_based, Length: 109, dtype: int64"
      ]
     },
     "execution_count": 26,
     "metadata": {},
     "output_type": "execute_result"
    }
   ],
   "source": [
    "agg_df[\"customers_level_based\"].value_counts() #görüldüğü üzere birden fazla aynı ifadeler var. groupby işlemi ile PRICE mean değeri verilmesi isteniyor"
   ]
  },
  {
   "cell_type": "code",
   "execution_count": 27,
   "metadata": {},
   "outputs": [
    {
     "data": {
      "text/html": [
       "<div>\n",
       "<style scoped>\n",
       "    .dataframe tbody tr th:only-of-type {\n",
       "        vertical-align: middle;\n",
       "    }\n",
       "\n",
       "    .dataframe tbody tr th {\n",
       "        vertical-align: top;\n",
       "    }\n",
       "\n",
       "    .dataframe thead th {\n",
       "        text-align: right;\n",
       "    }\n",
       "</style>\n",
       "<table border=\"1\" class=\"dataframe\">\n",
       "  <thead>\n",
       "    <tr style=\"text-align: right;\">\n",
       "      <th></th>\n",
       "      <th>PRICE</th>\n",
       "    </tr>\n",
       "    <tr>\n",
       "      <th>customers_level_based</th>\n",
       "      <th></th>\n",
       "    </tr>\n",
       "  </thead>\n",
       "  <tbody>\n",
       "    <tr>\n",
       "      <th>BRA_ANDROID_FEMALE_0_18</th>\n",
       "      <td>35.645303</td>\n",
       "    </tr>\n",
       "    <tr>\n",
       "      <th>BRA_ANDROID_FEMALE_19_23</th>\n",
       "      <td>34.077340</td>\n",
       "    </tr>\n",
       "    <tr>\n",
       "      <th>BRA_ANDROID_FEMALE_24_30</th>\n",
       "      <td>33.863946</td>\n",
       "    </tr>\n",
       "    <tr>\n",
       "      <th>BRA_ANDROID_FEMALE_31_40</th>\n",
       "      <td>34.898326</td>\n",
       "    </tr>\n",
       "    <tr>\n",
       "      <th>BRA_ANDROID_FEMALE_41_70</th>\n",
       "      <td>36.737179</td>\n",
       "    </tr>\n",
       "  </tbody>\n",
       "</table>\n",
       "</div>"
      ],
      "text/plain": [
       "                              PRICE\n",
       "customers_level_based              \n",
       "BRA_ANDROID_FEMALE_0_18   35.645303\n",
       "BRA_ANDROID_FEMALE_19_23  34.077340\n",
       "BRA_ANDROID_FEMALE_24_30  33.863946\n",
       "BRA_ANDROID_FEMALE_31_40  34.898326\n",
       "BRA_ANDROID_FEMALE_41_70  36.737179"
      ]
     },
     "execution_count": 27,
     "metadata": {},
     "output_type": "execute_result"
    }
   ],
   "source": [
    "agg_df = agg_df.groupby(\"customers_level_based\").agg({\"PRICE\": \"mean\"})\n",
    "agg_df.head() #groupby yaptık fakat şimdi kolon bilgimiz index değerleri oldu."
   ]
  },
  {
   "cell_type": "code",
   "execution_count": 28,
   "metadata": {},
   "outputs": [
    {
     "data": {
      "text/html": [
       "<div>\n",
       "<style scoped>\n",
       "    .dataframe tbody tr th:only-of-type {\n",
       "        vertical-align: middle;\n",
       "    }\n",
       "\n",
       "    .dataframe tbody tr th {\n",
       "        vertical-align: top;\n",
       "    }\n",
       "\n",
       "    .dataframe thead th {\n",
       "        text-align: right;\n",
       "    }\n",
       "</style>\n",
       "<table border=\"1\" class=\"dataframe\">\n",
       "  <thead>\n",
       "    <tr style=\"text-align: right;\">\n",
       "      <th></th>\n",
       "      <th>customers_level_based</th>\n",
       "      <th>PRICE</th>\n",
       "    </tr>\n",
       "  </thead>\n",
       "  <tbody>\n",
       "    <tr>\n",
       "      <th>0</th>\n",
       "      <td>BRA_ANDROID_FEMALE_0_18</td>\n",
       "      <td>35.645303</td>\n",
       "    </tr>\n",
       "    <tr>\n",
       "      <th>1</th>\n",
       "      <td>BRA_ANDROID_FEMALE_19_23</td>\n",
       "      <td>34.077340</td>\n",
       "    </tr>\n",
       "    <tr>\n",
       "      <th>2</th>\n",
       "      <td>BRA_ANDROID_FEMALE_24_30</td>\n",
       "      <td>33.863946</td>\n",
       "    </tr>\n",
       "    <tr>\n",
       "      <th>3</th>\n",
       "      <td>BRA_ANDROID_FEMALE_31_40</td>\n",
       "      <td>34.898326</td>\n",
       "    </tr>\n",
       "    <tr>\n",
       "      <th>4</th>\n",
       "      <td>BRA_ANDROID_FEMALE_41_70</td>\n",
       "      <td>36.737179</td>\n",
       "    </tr>\n",
       "  </tbody>\n",
       "</table>\n",
       "</div>"
      ],
      "text/plain": [
       "      customers_level_based      PRICE\n",
       "0   BRA_ANDROID_FEMALE_0_18  35.645303\n",
       "1  BRA_ANDROID_FEMALE_19_23  34.077340\n",
       "2  BRA_ANDROID_FEMALE_24_30  33.863946\n",
       "3  BRA_ANDROID_FEMALE_31_40  34.898326\n",
       "4  BRA_ANDROID_FEMALE_41_70  36.737179"
      ]
     },
     "execution_count": 28,
     "metadata": {},
     "output_type": "execute_result"
    }
   ],
   "source": [
    "agg_df = agg_df.reset_index()\n",
    "agg_df.head()"
   ]
  },
  {
   "cell_type": "code",
   "execution_count": 29,
   "metadata": {},
   "outputs": [
    {
     "name": "stdout",
     "output_type": "stream",
     "text": [
      "customers_level_based    PRICE    \n",
      "USA_IOS_MALE_41_70       35.750000    1\n",
      "DEU_ANDROID_MALE_0_18    37.248792    1\n",
      "CAN_IOS_FEMALE_0_18      31.352941    1\n",
      "CAN_IOS_FEMALE_24_30     31.727273    1\n",
      "CAN_IOS_MALE_0_18        36.746032    1\n",
      "                                     ..\n",
      "TUR_ANDROID_MALE_19_23   27.333333    1\n",
      "TUR_ANDROID_MALE_24_30   39.439103    1\n",
      "TUR_ANDROID_MALE_31_40   29.000000    1\n",
      "TUR_ANDROID_MALE_41_70   39.000000    1\n",
      "BRA_ANDROID_FEMALE_0_18  35.645303    1\n",
      "Length: 109, dtype: int64\n",
      "1\n"
     ]
    },
    {
     "data": {
      "text/html": [
       "<div>\n",
       "<style scoped>\n",
       "    .dataframe tbody tr th:only-of-type {\n",
       "        vertical-align: middle;\n",
       "    }\n",
       "\n",
       "    .dataframe tbody tr th {\n",
       "        vertical-align: top;\n",
       "    }\n",
       "\n",
       "    .dataframe thead th {\n",
       "        text-align: right;\n",
       "    }\n",
       "</style>\n",
       "<table border=\"1\" class=\"dataframe\">\n",
       "  <thead>\n",
       "    <tr style=\"text-align: right;\">\n",
       "      <th></th>\n",
       "      <th>customers_level_based</th>\n",
       "      <th>PRICE</th>\n",
       "    </tr>\n",
       "  </thead>\n",
       "  <tbody>\n",
       "    <tr>\n",
       "      <th>0</th>\n",
       "      <td>BRA_ANDROID_FEMALE_0_18</td>\n",
       "      <td>35.645303</td>\n",
       "    </tr>\n",
       "    <tr>\n",
       "      <th>1</th>\n",
       "      <td>BRA_ANDROID_FEMALE_19_23</td>\n",
       "      <td>34.077340</td>\n",
       "    </tr>\n",
       "    <tr>\n",
       "      <th>2</th>\n",
       "      <td>BRA_ANDROID_FEMALE_24_30</td>\n",
       "      <td>33.863946</td>\n",
       "    </tr>\n",
       "    <tr>\n",
       "      <th>3</th>\n",
       "      <td>BRA_ANDROID_FEMALE_31_40</td>\n",
       "      <td>34.898326</td>\n",
       "    </tr>\n",
       "    <tr>\n",
       "      <th>4</th>\n",
       "      <td>BRA_ANDROID_FEMALE_41_70</td>\n",
       "      <td>36.737179</td>\n",
       "    </tr>\n",
       "  </tbody>\n",
       "</table>\n",
       "</div>"
      ],
      "text/plain": [
       "      customers_level_based      PRICE\n",
       "0   BRA_ANDROID_FEMALE_0_18  35.645303\n",
       "1  BRA_ANDROID_FEMALE_19_23  34.077340\n",
       "2  BRA_ANDROID_FEMALE_24_30  33.863946\n",
       "3  BRA_ANDROID_FEMALE_31_40  34.898326\n",
       "4  BRA_ANDROID_FEMALE_41_70  36.737179"
      ]
     },
     "execution_count": 29,
     "metadata": {},
     "output_type": "execute_result"
    }
   ],
   "source": [
    "print(agg_df.value_counts()) #grupladıktan sonra her değerden 1 tane var\n",
    "print(agg_df.value_counts().max())\n",
    "\n",
    "agg_df.head() #gruplandı ve Price değerlerinin ortalamaları verildi"
   ]
  },
  {
   "cell_type": "markdown",
   "metadata": {},
   "source": [
    "### GÖREV 7\n",
    "\n",
    "**Yeni müşterileri (Örnek: USA_ANDROID_MALE_0_18) PRICE'a göre 4 segmente ayırınız.**\n",
    "\n",
    "Segmentleri **SEGMENT** isimlendirmesi ile değişken olarak **agg_df**'e ekleyiniz.\n",
    "\n",
    "Segmentleri betimleyiniz. (Segmentlere göre groupby yapıp price mean, max, sum'larını alınız)."
   ]
  },
  {
   "cell_type": "code",
   "execution_count": 37,
   "metadata": {},
   "outputs": [
    {
     "data": {
      "text/html": [
       "<div>\n",
       "<style scoped>\n",
       "    .dataframe tbody tr th:only-of-type {\n",
       "        vertical-align: middle;\n",
       "    }\n",
       "\n",
       "    .dataframe tbody tr th {\n",
       "        vertical-align: top;\n",
       "    }\n",
       "\n",
       "    .dataframe thead th {\n",
       "        text-align: right;\n",
       "    }\n",
       "</style>\n",
       "<table border=\"1\" class=\"dataframe\">\n",
       "  <thead>\n",
       "    <tr style=\"text-align: right;\">\n",
       "      <th></th>\n",
       "      <th>customers_level_based</th>\n",
       "      <th>PRICE</th>\n",
       "      <th>SEGMENT</th>\n",
       "    </tr>\n",
       "  </thead>\n",
       "  <tbody>\n",
       "    <tr>\n",
       "      <th>0</th>\n",
       "      <td>BRA_ANDROID_FEMALE_0_18</td>\n",
       "      <td>35.645303</td>\n",
       "      <td>B</td>\n",
       "    </tr>\n",
       "    <tr>\n",
       "      <th>1</th>\n",
       "      <td>BRA_ANDROID_FEMALE_19_23</td>\n",
       "      <td>34.077340</td>\n",
       "      <td>C</td>\n",
       "    </tr>\n",
       "    <tr>\n",
       "      <th>2</th>\n",
       "      <td>BRA_ANDROID_FEMALE_24_30</td>\n",
       "      <td>33.863946</td>\n",
       "      <td>C</td>\n",
       "    </tr>\n",
       "    <tr>\n",
       "      <th>3</th>\n",
       "      <td>BRA_ANDROID_FEMALE_31_40</td>\n",
       "      <td>34.898326</td>\n",
       "      <td>B</td>\n",
       "    </tr>\n",
       "    <tr>\n",
       "      <th>4</th>\n",
       "      <td>BRA_ANDROID_FEMALE_41_70</td>\n",
       "      <td>36.737179</td>\n",
       "      <td>A</td>\n",
       "    </tr>\n",
       "  </tbody>\n",
       "</table>\n",
       "</div>"
      ],
      "text/plain": [
       "      customers_level_based      PRICE SEGMENT\n",
       "0   BRA_ANDROID_FEMALE_0_18  35.645303       B\n",
       "1  BRA_ANDROID_FEMALE_19_23  34.077340       C\n",
       "2  BRA_ANDROID_FEMALE_24_30  33.863946       C\n",
       "3  BRA_ANDROID_FEMALE_31_40  34.898326       B\n",
       "4  BRA_ANDROID_FEMALE_41_70  36.737179       A"
      ]
     },
     "execution_count": 37,
     "metadata": {},
     "output_type": "execute_result"
    }
   ],
   "source": [
    "my_label = [\"D\", \"C\", \"B\", \"A\"] #bize önerilen 4 segment gruplaması\n",
    "agg_df[\"SEGMENT\"] = pd.qcut(agg_df[\"PRICE\"], 4, labels = my_label)\n",
    "agg_df.head()"
   ]
  },
  {
   "cell_type": "code",
   "execution_count": 44,
   "metadata": {},
   "outputs": [
    {
     "data": {
      "text/html": [
       "<div>\n",
       "<style scoped>\n",
       "    .dataframe tbody tr th:only-of-type {\n",
       "        vertical-align: middle;\n",
       "    }\n",
       "\n",
       "    .dataframe tbody tr th {\n",
       "        vertical-align: top;\n",
       "    }\n",
       "\n",
       "    .dataframe thead tr th {\n",
       "        text-align: left;\n",
       "    }\n",
       "\n",
       "    .dataframe thead tr:last-of-type th {\n",
       "        text-align: right;\n",
       "    }\n",
       "</style>\n",
       "<table border=\"1\" class=\"dataframe\">\n",
       "  <thead>\n",
       "    <tr>\n",
       "      <th></th>\n",
       "      <th colspan=\"3\" halign=\"left\">PRICE</th>\n",
       "    </tr>\n",
       "    <tr>\n",
       "      <th></th>\n",
       "      <th>mean</th>\n",
       "      <th>max</th>\n",
       "      <th>sum</th>\n",
       "    </tr>\n",
       "    <tr>\n",
       "      <th>SEGMENT</th>\n",
       "      <th></th>\n",
       "      <th></th>\n",
       "      <th></th>\n",
       "    </tr>\n",
       "  </thead>\n",
       "  <tbody>\n",
       "    <tr>\n",
       "      <th>D</th>\n",
       "      <td>29.206780</td>\n",
       "      <td>32.333333</td>\n",
       "      <td>817.789833</td>\n",
       "    </tr>\n",
       "    <tr>\n",
       "      <th>C</th>\n",
       "      <td>33.509674</td>\n",
       "      <td>34.077340</td>\n",
       "      <td>904.761209</td>\n",
       "    </tr>\n",
       "    <tr>\n",
       "      <th>B</th>\n",
       "      <td>34.999645</td>\n",
       "      <td>36.000000</td>\n",
       "      <td>944.990411</td>\n",
       "    </tr>\n",
       "    <tr>\n",
       "      <th>A</th>\n",
       "      <td>38.691234</td>\n",
       "      <td>45.428571</td>\n",
       "      <td>1044.663328</td>\n",
       "    </tr>\n",
       "  </tbody>\n",
       "</table>\n",
       "</div>"
      ],
      "text/plain": [
       "             PRICE                        \n",
       "              mean        max          sum\n",
       "SEGMENT                                   \n",
       "D        29.206780  32.333333   817.789833\n",
       "C        33.509674  34.077340   904.761209\n",
       "B        34.999645  36.000000   944.990411\n",
       "A        38.691234  45.428571  1044.663328"
      ]
     },
     "execution_count": 44,
     "metadata": {},
     "output_type": "execute_result"
    }
   ],
   "source": [
    "agg_df.groupby(\"SEGMENT\").agg({\"PRICE\": [\"mean\", \"max\", \"sum\"]})\n",
    "# qcut PRICE'ı qcut ederek ordinal kategorik bir değişken SEGMENT'i oluşturmuş. (A > B > C > D)"
   ]
  },
  {
   "cell_type": "markdown",
   "metadata": {},
   "source": [
    "### GÖREV 8\n",
    "\n",
    "**Yeni gelen müşterileri sınıflandırıp, ne kadar gelir getirebileceklerini tahmin ediniz.**\n",
    "\n",
    "33 yaşında ANDROID kullanan bir Türk kadını hangi segmente aittir ve ortalama ne kadar gelir kazandırması beklenir?\n",
    "\n",
    "35 yaşında IOS kullanan bir Fransız kadını hangi segmente aittir ve ortalama ne kadar gelir kazandırması beklenir?"
   ]
  },
  {
   "cell_type": "code",
   "execution_count": 45,
   "metadata": {},
   "outputs": [
    {
     "data": {
      "text/html": [
       "<div>\n",
       "<style scoped>\n",
       "    .dataframe tbody tr th:only-of-type {\n",
       "        vertical-align: middle;\n",
       "    }\n",
       "\n",
       "    .dataframe tbody tr th {\n",
       "        vertical-align: top;\n",
       "    }\n",
       "\n",
       "    .dataframe thead th {\n",
       "        text-align: right;\n",
       "    }\n",
       "</style>\n",
       "<table border=\"1\" class=\"dataframe\">\n",
       "  <thead>\n",
       "    <tr style=\"text-align: right;\">\n",
       "      <th></th>\n",
       "      <th>customers_level_based</th>\n",
       "      <th>PRICE</th>\n",
       "      <th>SEGMENT</th>\n",
       "    </tr>\n",
       "  </thead>\n",
       "  <tbody>\n",
       "    <tr>\n",
       "      <th>72</th>\n",
       "      <td>TUR_ANDROID_FEMALE_31_40</td>\n",
       "      <td>41.833333</td>\n",
       "      <td>A</td>\n",
       "    </tr>\n",
       "  </tbody>\n",
       "</table>\n",
       "</div>"
      ],
      "text/plain": [
       "       customers_level_based      PRICE SEGMENT\n",
       "72  TUR_ANDROID_FEMALE_31_40  41.833333       A"
      ]
     },
     "execution_count": 45,
     "metadata": {},
     "output_type": "execute_result"
    }
   ],
   "source": [
    "new_user = \"TUR_ANDROID_FEMALE_31_40\"\n",
    "agg_df[agg_df[\"customers_level_based\"] == new_user]"
   ]
  },
  {
   "cell_type": "code",
   "execution_count": 46,
   "metadata": {},
   "outputs": [
    {
     "data": {
      "text/html": [
       "<div>\n",
       "<style scoped>\n",
       "    .dataframe tbody tr th:only-of-type {\n",
       "        vertical-align: middle;\n",
       "    }\n",
       "\n",
       "    .dataframe tbody tr th {\n",
       "        vertical-align: top;\n",
       "    }\n",
       "\n",
       "    .dataframe thead th {\n",
       "        text-align: right;\n",
       "    }\n",
       "</style>\n",
       "<table border=\"1\" class=\"dataframe\">\n",
       "  <thead>\n",
       "    <tr style=\"text-align: right;\">\n",
       "      <th></th>\n",
       "      <th>customers_level_based</th>\n",
       "      <th>PRICE</th>\n",
       "      <th>SEGMENT</th>\n",
       "    </tr>\n",
       "  </thead>\n",
       "  <tbody>\n",
       "    <tr>\n",
       "      <th>63</th>\n",
       "      <td>FRA_IOS_FEMALE_31_40</td>\n",
       "      <td>32.818182</td>\n",
       "      <td>C</td>\n",
       "    </tr>\n",
       "  </tbody>\n",
       "</table>\n",
       "</div>"
      ],
      "text/plain": [
       "   customers_level_based      PRICE SEGMENT\n",
       "63  FRA_IOS_FEMALE_31_40  32.818182       C"
      ]
     },
     "execution_count": 46,
     "metadata": {},
     "output_type": "execute_result"
    }
   ],
   "source": [
    "new_user = \"FRA_IOS_FEMALE_31_40\"\n",
    "agg_df[agg_df[\"customers_level_based\"] == new_user]"
   ]
  }
 ],
 "metadata": {
  "kernelspec": {
   "display_name": "Python 3",
   "language": "python",
   "name": "python3"
  },
  "language_info": {
   "codemirror_mode": {
    "name": "ipython",
    "version": 3
   },
   "file_extension": ".py",
   "mimetype": "text/x-python",
   "name": "python",
   "nbconvert_exporter": "python",
   "pygments_lexer": "ipython3",
   "version": "3.8.5"
  }
 },
 "nbformat": 4,
 "nbformat_minor": 4
}
